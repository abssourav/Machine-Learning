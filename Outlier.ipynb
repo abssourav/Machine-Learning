{
 "cells": [
  {
   "cell_type": "code",
   "execution_count": 1,
   "id": "f561002a-ef8c-4627-91dd-43ce14732473",
   "metadata": {},
   "outputs": [],
   "source": [
    "import pandas as pd\n",
    "import seaborn as sns\n",
    "import matplotlib.pyplot as plt"
   ]
  },
  {
   "cell_type": "code",
   "execution_count": 2,
   "id": "86703da4-02b8-4ba8-8916-acde1edd97a1",
   "metadata": {},
   "outputs": [],
   "source": [
    "dataset = pd.read_excel(r\"C:\\AutoMPGmodels.xlsx\")"
   ]
  },
  {
   "cell_type": "code",
   "execution_count": 3,
   "id": "c3c6b5be-82e6-42c5-bb00-920cf98b3561",
   "metadata": {},
   "outputs": [
    {
     "data": {
      "text/plain": [
       "(392, 15)"
      ]
     },
     "execution_count": 3,
     "metadata": {},
     "output_type": "execute_result"
    }
   ],
   "source": [
    "dataset.shape"
   ]
  },
  {
   "cell_type": "code",
   "execution_count": 4,
   "id": "320c8682-c43a-463f-9cfd-daee9467e2db",
   "metadata": {},
   "outputs": [
    {
     "data": {
      "text/html": [
       "<div>\n",
       "<style scoped>\n",
       "    .dataframe tbody tr th:only-of-type {\n",
       "        vertical-align: middle;\n",
       "    }\n",
       "\n",
       "    .dataframe tbody tr th {\n",
       "        vertical-align: top;\n",
       "    }\n",
       "\n",
       "    .dataframe thead th {\n",
       "        text-align: right;\n",
       "    }\n",
       "</style>\n",
       "<table border=\"1\" class=\"dataframe\">\n",
       "  <thead>\n",
       "    <tr style=\"text-align: right;\">\n",
       "      <th></th>\n",
       "      <th>GallonsPer100Miles</th>\n",
       "      <th>GallonsPer100MilesTo1981</th>\n",
       "      <th>MPG</th>\n",
       "      <th>Cylinders</th>\n",
       "      <th>Displacement100ci</th>\n",
       "      <th>Horsepower100</th>\n",
       "      <th>Weight1000lb</th>\n",
       "      <th>Seconds0to60</th>\n",
       "      <th>Year</th>\n",
       "      <th>Year70To81</th>\n",
       "      <th>Origin</th>\n",
       "      <th>Origin.Eq.1</th>\n",
       "      <th>Origin.Eq.2</th>\n",
       "      <th>Origin.Eq.3</th>\n",
       "      <th>Name</th>\n",
       "    </tr>\n",
       "  </thead>\n",
       "  <tbody>\n",
       "    <tr>\n",
       "      <th>0</th>\n",
       "      <td>5.555556</td>\n",
       "      <td>5.555556</td>\n",
       "      <td>18.0</td>\n",
       "      <td>8.0</td>\n",
       "      <td>3.07</td>\n",
       "      <td>1.30</td>\n",
       "      <td>3.504</td>\n",
       "      <td>12.0</td>\n",
       "      <td>70.0</td>\n",
       "      <td>1.0</td>\n",
       "      <td>1.0</td>\n",
       "      <td>1.0</td>\n",
       "      <td>0.0</td>\n",
       "      <td>0</td>\n",
       "      <td>chevrolet chevelle malibu</td>\n",
       "    </tr>\n",
       "    <tr>\n",
       "      <th>1</th>\n",
       "      <td>6.666667</td>\n",
       "      <td>6.666667</td>\n",
       "      <td>15.0</td>\n",
       "      <td>8.0</td>\n",
       "      <td>3.50</td>\n",
       "      <td>1.65</td>\n",
       "      <td>3.693</td>\n",
       "      <td>11.5</td>\n",
       "      <td>70.0</td>\n",
       "      <td>1.0</td>\n",
       "      <td>1.0</td>\n",
       "      <td>1.0</td>\n",
       "      <td>0.0</td>\n",
       "      <td>0</td>\n",
       "      <td>buick skylark 320</td>\n",
       "    </tr>\n",
       "    <tr>\n",
       "      <th>2</th>\n",
       "      <td>5.555556</td>\n",
       "      <td>5.555556</td>\n",
       "      <td>18.0</td>\n",
       "      <td>8.0</td>\n",
       "      <td>3.18</td>\n",
       "      <td>1.50</td>\n",
       "      <td>3.436</td>\n",
       "      <td>11.0</td>\n",
       "      <td>70.0</td>\n",
       "      <td>1.0</td>\n",
       "      <td>1.0</td>\n",
       "      <td>1.0</td>\n",
       "      <td>0.0</td>\n",
       "      <td>0</td>\n",
       "      <td>plymouth satellite</td>\n",
       "    </tr>\n",
       "  </tbody>\n",
       "</table>\n",
       "</div>"
      ],
      "text/plain": [
       "   GallonsPer100Miles  GallonsPer100MilesTo1981   MPG  Cylinders  \\\n",
       "0            5.555556                  5.555556  18.0        8.0   \n",
       "1            6.666667                  6.666667  15.0        8.0   \n",
       "2            5.555556                  5.555556  18.0        8.0   \n",
       "\n",
       "   Displacement100ci  Horsepower100  Weight1000lb  Seconds0to60  Year  \\\n",
       "0               3.07           1.30         3.504          12.0  70.0   \n",
       "1               3.50           1.65         3.693          11.5  70.0   \n",
       "2               3.18           1.50         3.436          11.0  70.0   \n",
       "\n",
       "   Year70To81  Origin  Origin.Eq.1  Origin.Eq.2  Origin.Eq.3  \\\n",
       "0         1.0     1.0          1.0          0.0            0   \n",
       "1         1.0     1.0          1.0          0.0            0   \n",
       "2         1.0     1.0          1.0          0.0            0   \n",
       "\n",
       "                        Name  \n",
       "0  chevrolet chevelle malibu  \n",
       "1          buick skylark 320  \n",
       "2         plymouth satellite  "
      ]
     },
     "execution_count": 4,
     "metadata": {},
     "output_type": "execute_result"
    }
   ],
   "source": [
    "dataset.head(3)"
   ]
  },
  {
   "cell_type": "code",
   "execution_count": 5,
   "id": "e6e2058d-b60c-44bc-a985-4dd5f0678df0",
   "metadata": {},
   "outputs": [
    {
     "data": {
      "text/html": [
       "<div>\n",
       "<style scoped>\n",
       "    .dataframe tbody tr th:only-of-type {\n",
       "        vertical-align: middle;\n",
       "    }\n",
       "\n",
       "    .dataframe tbody tr th {\n",
       "        vertical-align: top;\n",
       "    }\n",
       "\n",
       "    .dataframe thead th {\n",
       "        text-align: right;\n",
       "    }\n",
       "</style>\n",
       "<table border=\"1\" class=\"dataframe\">\n",
       "  <thead>\n",
       "    <tr style=\"text-align: right;\">\n",
       "      <th></th>\n",
       "      <th>GallonsPer100Miles</th>\n",
       "      <th>GallonsPer100MilesTo1981</th>\n",
       "      <th>MPG</th>\n",
       "      <th>Cylinders</th>\n",
       "      <th>Displacement100ci</th>\n",
       "      <th>Horsepower100</th>\n",
       "      <th>Weight1000lb</th>\n",
       "      <th>Seconds0to60</th>\n",
       "      <th>Year</th>\n",
       "      <th>Year70To81</th>\n",
       "      <th>Origin</th>\n",
       "      <th>Origin.Eq.1</th>\n",
       "      <th>Origin.Eq.2</th>\n",
       "      <th>Origin.Eq.3</th>\n",
       "    </tr>\n",
       "  </thead>\n",
       "  <tbody>\n",
       "    <tr>\n",
       "      <th>count</th>\n",
       "      <td>391.000000</td>\n",
       "      <td>355.000000</td>\n",
       "      <td>389.00000</td>\n",
       "      <td>391.000000</td>\n",
       "      <td>384.000000</td>\n",
       "      <td>387.000000</td>\n",
       "      <td>377.000000</td>\n",
       "      <td>385.000000</td>\n",
       "      <td>390.000000</td>\n",
       "      <td>390.000000</td>\n",
       "      <td>389.000000</td>\n",
       "      <td>390.000000</td>\n",
       "      <td>390.000000</td>\n",
       "      <td>392.000000</td>\n",
       "    </tr>\n",
       "    <tr>\n",
       "      <th>mean</th>\n",
       "      <td>4.776205</td>\n",
       "      <td>4.884115</td>\n",
       "      <td>23.41054</td>\n",
       "      <td>5.465473</td>\n",
       "      <td>1.927930</td>\n",
       "      <td>1.044289</td>\n",
       "      <td>2.959257</td>\n",
       "      <td>15.562078</td>\n",
       "      <td>76.002564</td>\n",
       "      <td>0.923077</td>\n",
       "      <td>1.580977</td>\n",
       "      <td>0.623077</td>\n",
       "      <td>0.174359</td>\n",
       "      <td>0.201531</td>\n",
       "    </tr>\n",
       "    <tr>\n",
       "      <th>std</th>\n",
       "      <td>1.661771</td>\n",
       "      <td>1.633474</td>\n",
       "      <td>7.78764</td>\n",
       "      <td>1.703152</td>\n",
       "      <td>1.041787</td>\n",
       "      <td>0.383701</td>\n",
       "      <td>0.838249</td>\n",
       "      <td>2.755405</td>\n",
       "      <td>3.677556</td>\n",
       "      <td>0.266812</td>\n",
       "      <td>0.807023</td>\n",
       "      <td>0.485238</td>\n",
       "      <td>0.379905</td>\n",
       "      <td>0.401656</td>\n",
       "    </tr>\n",
       "    <tr>\n",
       "      <th>min</th>\n",
       "      <td>2.145923</td>\n",
       "      <td>2.145923</td>\n",
       "      <td>9.00000</td>\n",
       "      <td>3.000000</td>\n",
       "      <td>0.680000</td>\n",
       "      <td>0.460000</td>\n",
       "      <td>1.613000</td>\n",
       "      <td>8.000000</td>\n",
       "      <td>70.000000</td>\n",
       "      <td>0.000000</td>\n",
       "      <td>1.000000</td>\n",
       "      <td>0.000000</td>\n",
       "      <td>0.000000</td>\n",
       "      <td>0.000000</td>\n",
       "    </tr>\n",
       "    <tr>\n",
       "      <th>25%</th>\n",
       "      <td>3.448276</td>\n",
       "      <td>3.571429</td>\n",
       "      <td>17.00000</td>\n",
       "      <td>4.000000</td>\n",
       "      <td>1.032500</td>\n",
       "      <td>0.755000</td>\n",
       "      <td>2.223000</td>\n",
       "      <td>13.800000</td>\n",
       "      <td>73.000000</td>\n",
       "      <td>1.000000</td>\n",
       "      <td>1.000000</td>\n",
       "      <td>0.000000</td>\n",
       "      <td>0.000000</td>\n",
       "      <td>0.000000</td>\n",
       "    </tr>\n",
       "    <tr>\n",
       "      <th>50%</th>\n",
       "      <td>4.347826</td>\n",
       "      <td>4.629630</td>\n",
       "      <td>22.50000</td>\n",
       "      <td>4.000000</td>\n",
       "      <td>1.460000</td>\n",
       "      <td>0.940000</td>\n",
       "      <td>2.790000</td>\n",
       "      <td>15.500000</td>\n",
       "      <td>76.000000</td>\n",
       "      <td>1.000000</td>\n",
       "      <td>1.000000</td>\n",
       "      <td>1.000000</td>\n",
       "      <td>0.000000</td>\n",
       "      <td>0.000000</td>\n",
       "    </tr>\n",
       "    <tr>\n",
       "      <th>75%</th>\n",
       "      <td>5.798319</td>\n",
       "      <td>5.882353</td>\n",
       "      <td>29.00000</td>\n",
       "      <td>8.000000</td>\n",
       "      <td>2.605000</td>\n",
       "      <td>1.250000</td>\n",
       "      <td>3.574000</td>\n",
       "      <td>17.100000</td>\n",
       "      <td>79.000000</td>\n",
       "      <td>1.000000</td>\n",
       "      <td>2.000000</td>\n",
       "      <td>1.000000</td>\n",
       "      <td>0.000000</td>\n",
       "      <td>0.000000</td>\n",
       "    </tr>\n",
       "    <tr>\n",
       "      <th>max</th>\n",
       "      <td>11.111111</td>\n",
       "      <td>11.111111</td>\n",
       "      <td>46.60000</td>\n",
       "      <td>8.000000</td>\n",
       "      <td>4.550000</td>\n",
       "      <td>2.300000</td>\n",
       "      <td>5.140000</td>\n",
       "      <td>24.800000</td>\n",
       "      <td>82.000000</td>\n",
       "      <td>1.000000</td>\n",
       "      <td>3.000000</td>\n",
       "      <td>1.000000</td>\n",
       "      <td>1.000000</td>\n",
       "      <td>1.000000</td>\n",
       "    </tr>\n",
       "  </tbody>\n",
       "</table>\n",
       "</div>"
      ],
      "text/plain": [
       "       GallonsPer100Miles  GallonsPer100MilesTo1981        MPG   Cylinders  \\\n",
       "count          391.000000                355.000000  389.00000  391.000000   \n",
       "mean             4.776205                  4.884115   23.41054    5.465473   \n",
       "std              1.661771                  1.633474    7.78764    1.703152   \n",
       "min              2.145923                  2.145923    9.00000    3.000000   \n",
       "25%              3.448276                  3.571429   17.00000    4.000000   \n",
       "50%              4.347826                  4.629630   22.50000    4.000000   \n",
       "75%              5.798319                  5.882353   29.00000    8.000000   \n",
       "max             11.111111                 11.111111   46.60000    8.000000   \n",
       "\n",
       "       Displacement100ci  Horsepower100  Weight1000lb  Seconds0to60  \\\n",
       "count         384.000000     387.000000    377.000000    385.000000   \n",
       "mean            1.927930       1.044289      2.959257     15.562078   \n",
       "std             1.041787       0.383701      0.838249      2.755405   \n",
       "min             0.680000       0.460000      1.613000      8.000000   \n",
       "25%             1.032500       0.755000      2.223000     13.800000   \n",
       "50%             1.460000       0.940000      2.790000     15.500000   \n",
       "75%             2.605000       1.250000      3.574000     17.100000   \n",
       "max             4.550000       2.300000      5.140000     24.800000   \n",
       "\n",
       "             Year  Year70To81      Origin  Origin.Eq.1  Origin.Eq.2  \\\n",
       "count  390.000000  390.000000  389.000000   390.000000   390.000000   \n",
       "mean    76.002564    0.923077    1.580977     0.623077     0.174359   \n",
       "std      3.677556    0.266812    0.807023     0.485238     0.379905   \n",
       "min     70.000000    0.000000    1.000000     0.000000     0.000000   \n",
       "25%     73.000000    1.000000    1.000000     0.000000     0.000000   \n",
       "50%     76.000000    1.000000    1.000000     1.000000     0.000000   \n",
       "75%     79.000000    1.000000    2.000000     1.000000     0.000000   \n",
       "max     82.000000    1.000000    3.000000     1.000000     1.000000   \n",
       "\n",
       "       Origin.Eq.3  \n",
       "count   392.000000  \n",
       "mean      0.201531  \n",
       "std       0.401656  \n",
       "min       0.000000  \n",
       "25%       0.000000  \n",
       "50%       0.000000  \n",
       "75%       0.000000  \n",
       "max       1.000000  "
      ]
     },
     "execution_count": 5,
     "metadata": {},
     "output_type": "execute_result"
    }
   ],
   "source": [
    "dataset.describe()"
   ]
  },
  {
   "cell_type": "code",
   "execution_count": 7,
   "id": "1aae82c0-4e35-44e8-b7f6-55274d9288ac",
   "metadata": {},
   "outputs": [
    {
     "data": {
      "image/png": "[encoded data removed]",
      "text/plain": [
       "<Figure size 1000x500 with 1 Axes>"
      ]
     },
     "metadata": {},
     "output_type": "display_data"
    }
   ],
   "source": [
    "plt.figure(figsize=(10,5))\n",
    "sns.boxplot(x = \"GallonsPer100MilesTo1981\", data = dataset)\n",
    "plt.show()"
   ]
  },
  {
   "cell_type": "code",
   "execution_count": 9,
   "id": "3d567fee-d7e3-49fd-b4ad-3f491868dd29",
   "metadata": {},
   "outputs": [
    {
     "data": {
      "text/plain": [
       "(3.5714285714285716, 5.882352941176471)"
      ]
     },
     "execution_count": 9,
     "metadata": {},
     "output_type": "execute_result"
    }
   ],
   "source": [
    "q1 = dataset[\"GallonsPer100MilesTo1981\"].quantile(0.25)\n",
    "q3 = dataset[\"GallonsPer100MilesTo1981\"].quantile(0.75)\n",
    "q1,q3"
   ]
  },
  {
   "cell_type": "code",
   "execution_count": 11,
   "id": "1fbafdaf-5ae4-472d-a5ed-3de470071695",
   "metadata": {},
   "outputs": [],
   "source": [
    "IQR = q3- q1"
   ]
  },
  {
   "cell_type": "code",
   "execution_count": 12,
   "id": "8bcc8128-8c7e-453a-9dc2-936c2be16775",
   "metadata": {},
   "outputs": [
    {
     "data": {
      "text/plain": [
       "(0.10504201680672276, 9.34873949579832)"
      ]
     },
     "execution_count": 12,
     "metadata": {},
     "output_type": "execute_result"
    }
   ],
   "source": [
    "min_range = q1 - (1.5*IQR)\n",
    "max_range = q3 + (1.5*IQR)\n",
    "min_range,max_range"
   ]
  },
  {
   "cell_type": "code",
   "execution_count": 13,
   "id": "17be52ff-f59b-4621-b4f2-57461151072d",
   "metadata": {},
   "outputs": [],
   "source": [
    "new_dataset = dataset[dataset[\"GallonsPer100MilesTo1981\"] >= min_range]"
   ]
  },
  {
   "cell_type": "code",
   "execution_count": 14,
   "id": "cb89f551-8f5e-4af0-898c-339113c4c37c",
   "metadata": {},
   "outputs": [],
   "source": [
    "new_dataset = dataset[dataset[\"GallonsPer100MilesTo1981\"] <= max_range]"
   ]
  },
  {
   "cell_type": "code",
   "execution_count": 16,
   "id": "e9fe11df-323f-4ca0-b939-fe02941f86bb",
   "metadata": {},
   "outputs": [
    {
     "data": {
      "text/plain": [
       "(353, 15)"
      ]
     },
     "execution_count": 16,
     "metadata": {},
     "output_type": "execute_result"
    }
   ],
   "source": [
    "new_dataset.shape"
   ]
  },
  {
   "cell_type": "code",
   "execution_count": 18,
   "id": "8c8e9f5e-75fa-47b4-9943-2c746a153382",
   "metadata": {},
   "outputs": [
    {
     "data": {
      "image/png": "[encoded data removed]",
      "text/plain": [
       "<Figure size 640x480 with 1 Axes>"
      ]
     },
     "metadata": {},
     "output_type": "display_data"
    }
   ],
   "source": [
    "sns.boxplot(x = \"GallonsPer100MilesTo1981\", data= new_dataset)\n",
    "plt.show()"
   ]
  },
  {
   "cell_type": "code",
   "execution_count": null,
   "id": "a98d855c-a109-4b32-839a-636e1035fe2d",
   "metadata": {},
   "outputs": [],
   "source": []
  }
 ],
 "metadata": {
  "kernelspec": {
   "display_name": "Python 3 (ipykernel)",
   "language": "python",
   "name": "python3"
  },
  "language_info": {
   "codemirror_mode": {
    "name": "ipython",
    "version": 3
   },
   "file_extension": ".py",
   "mimetype": "text/x-python",
   "name": "python",
   "nbconvert_exporter": "python",
   "pygments_lexer": "ipython3",
   "version": "3.12.2"
  }
 },
 "nbformat": 4,
 "nbformat_minor": 5
}
